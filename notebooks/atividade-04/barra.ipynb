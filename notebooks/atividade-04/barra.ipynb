{
 "cells": [
  {
   "cell_type": "code",
   "execution_count": 349,
   "id": "98b847ed-acea-457f-a816-9755988eaf94",
   "metadata": {},
   "outputs": [],
   "source": [
    "from matplotlib import pyplot as plt\n",
    "import seaborn as sns\n",
    "import pandas as pd"
   ]
  },
  {
   "cell_type": "code",
   "execution_count": 350,
   "id": "e92b22cc-02a2-4de9-8abb-ba79c5aa6e01",
   "metadata": {
    "tags": []
   },
   "outputs": [
    {
     "data": {
      "text/html": [
       "<div>\n",
       "<style scoped>\n",
       "    .dataframe tbody tr th:only-of-type {\n",
       "        vertical-align: middle;\n",
       "    }\n",
       "\n",
       "    .dataframe tbody tr th {\n",
       "        vertical-align: top;\n",
       "    }\n",
       "\n",
       "    .dataframe thead th {\n",
       "        text-align: right;\n",
       "    }\n",
       "</style>\n",
       "<table border=\"1\" class=\"dataframe\">\n",
       "  <thead>\n",
       "    <tr style=\"text-align: right;\">\n",
       "      <th></th>\n",
       "      <th>arrecadacao</th>\n",
       "      <th>titulo</th>\n",
       "    </tr>\n",
       "  </thead>\n",
       "  <tbody>\n",
       "    <tr>\n",
       "      <th>0</th>\n",
       "      <td>7316746</td>\n",
       "      <td>Ferdinand</td>\n",
       "    </tr>\n",
       "    <tr>\n",
       "      <th>1</th>\n",
       "      <td>36169328</td>\n",
       "      <td>Jumanji: Welcome to the Jungle</td>\n",
       "    </tr>\n",
       "    <tr>\n",
       "      <th>2</th>\n",
       "      <td>19928525</td>\n",
       "      <td>Pitch Perfect 3</td>\n",
       "    </tr>\n",
       "    <tr>\n",
       "      <th>3</th>\n",
       "      <td>71565498</td>\n",
       "      <td>Star Wars: The Last Jedi</td>\n",
       "    </tr>\n",
       "    <tr>\n",
       "      <th>4</th>\n",
       "      <td>8805843</td>\n",
       "      <td>The Greatest Showman</td>\n",
       "    </tr>\n",
       "  </tbody>\n",
       "</table>\n",
       "</div>"
      ],
      "text/plain": [
       "   arrecadacao                          titulo\n",
       "0      7316746                       Ferdinand\n",
       "1     36169328  Jumanji: Welcome to the Jungle\n",
       "2     19928525                 Pitch Perfect 3\n",
       "3     71565498        Star Wars: The Last Jedi\n",
       "4      8805843            The Greatest Showman"
      ]
     },
     "execution_count": 350,
     "metadata": {},
     "output_type": "execute_result"
    }
   ],
   "source": [
    "df = pd.read_csv(\n",
    "    'https://gist.githubusercontent.com/omadson/770934cb0df9e2d2c3e8db031f1139a5/raw/4d181efc035b327d9d66256915951384517c603e/arrecadacao.csv')\n",
    "df.head()\n",
    "    "
   ]
  },
  {
   "cell_type": "code",
   "execution_count": 351,
   "id": "cb5aede9-76b6-446d-a360-e2feafac9fe9",
   "metadata": {},
   "outputs": [
    {
     "data": {
      "text/html": [
       "<div>\n",
       "<style scoped>\n",
       "    .dataframe tbody tr th:only-of-type {\n",
       "        vertical-align: middle;\n",
       "    }\n",
       "\n",
       "    .dataframe tbody tr th {\n",
       "        vertical-align: top;\n",
       "    }\n",
       "\n",
       "    .dataframe thead th {\n",
       "        text-align: right;\n",
       "    }\n",
       "</style>\n",
       "<table border=\"1\" class=\"dataframe\">\n",
       "  <thead>\n",
       "    <tr style=\"text-align: right;\">\n",
       "      <th></th>\n",
       "      <th>arrecadacao</th>\n",
       "      <th>titulo</th>\n",
       "      <th>arrecadacao_milhao</th>\n",
       "    </tr>\n",
       "  </thead>\n",
       "  <tbody>\n",
       "    <tr>\n",
       "      <th>0</th>\n",
       "      <td>7316746</td>\n",
       "      <td>Ferdinand</td>\n",
       "      <td>7.316746</td>\n",
       "    </tr>\n",
       "    <tr>\n",
       "      <th>1</th>\n",
       "      <td>36169328</td>\n",
       "      <td>Jumanji: Welcome to the Jungle</td>\n",
       "      <td>36.169328</td>\n",
       "    </tr>\n",
       "    <tr>\n",
       "      <th>2</th>\n",
       "      <td>19928525</td>\n",
       "      <td>Pitch Perfect 3</td>\n",
       "      <td>19.928525</td>\n",
       "    </tr>\n",
       "    <tr>\n",
       "      <th>3</th>\n",
       "      <td>71565498</td>\n",
       "      <td>Star Wars: The Last Jedi</td>\n",
       "      <td>71.565498</td>\n",
       "    </tr>\n",
       "    <tr>\n",
       "      <th>4</th>\n",
       "      <td>8805843</td>\n",
       "      <td>The Greatest Showman</td>\n",
       "      <td>8.805843</td>\n",
       "    </tr>\n",
       "  </tbody>\n",
       "</table>\n",
       "</div>"
      ],
      "text/plain": [
       "   arrecadacao                          titulo  arrecadacao_milhao\n",
       "0      7316746                       Ferdinand            7.316746\n",
       "1     36169328  Jumanji: Welcome to the Jungle           36.169328\n",
       "2     19928525                 Pitch Perfect 3           19.928525\n",
       "3     71565498        Star Wars: The Last Jedi           71.565498\n",
       "4      8805843            The Greatest Showman            8.805843"
      ]
     },
     "execution_count": 351,
     "metadata": {},
     "output_type": "execute_result"
    }
   ],
   "source": [
    "df.assign(arrecadacao_milhao = df.arrecadacao / 1000000)"
   ]
  },
  {
   "cell_type": "code",
   "execution_count": 352,
   "id": "0357fca1-6dd0-4e5c-8d82-9b99b6501f72",
   "metadata": {
    "tags": []
   },
   "outputs": [],
   "source": [
    "df =df.sort_values(by = 'arrecadacao', ascending = False)"
   ]
  },
  {
   "cell_type": "code",
   "execution_count": 353,
   "id": "a12631f2-d7b0-4f53-a6c5-5c512cd422fd",
   "metadata": {},
   "outputs": [],
   "source": [
    "sns.set_style('whitegrid')"
   ]
  },
  {
   "cell_type": "code",
   "execution_count": 354,
   "id": "75d1d0c5-7bbe-4943-9c5f-50d83c1da7ea",
   "metadata": {},
   "outputs": [
    {
     "data": {
      "text/plain": [
       "Text(0.5, 1.0, 'Arrecadação de filmes')"
      ]
     },
     "execution_count": 354,
     "metadata": {},
     "output_type": "execute_result"
    },
    {
     "data": {
      "image/png": "[encoded data removed]",
      "text/plain": [
       "<Figure size 500x200 with 1 Axes>"
      ]
     },
     "metadata": {},
     "output_type": "display_data"
    }
   ],
   "source": [
    "plt.figure(figsize=(5, 2))\n",
    "ax =sns.barplot(data=df, x='arrecadacao', y='titulo', color='tomato')\n",
    "ax.bar_label(ax.containers[0], fontsize=8, fmt='%.1f', label_type='center', color='white')\n",
    "plt.xlabel('Arrecadações (Milhões de Dólares)')\n",
    "plt.ylabel('Filme')\n",
    "plt.title('Arrecadação de filmes')"
   ]
  },
  {
   "cell_type": "code",
   "execution_count": 356,
   "id": "4af81789-e537-4343-b0e8-7ebe850167c6",
   "metadata": {
    "tags": []
   },
   "outputs": [
    {
     "data": {
      "text/plain": [
       "<function matplotlib.pyplot.show(close=None, block=None)>"
      ]
     },
     "execution_count": 356,
     "metadata": {},
     "output_type": "execute_result"
    }
   ],
   "source": [
    "ax.set(frame_on = False)\n",
    "ax.axvline(0, color=\"k\", clip_on =False)\n",
    "plt.show"
   ]
  }
 ],
 "metadata": {
  "kernelspec": {
   "display_name": "Python 3 (ipykernel)",
   "language": "python",
   "name": "python3"
  },
  "language_info": {
   "codemirror_mode": {
    "name": "ipython",
    "version": 3
   },
   "file_extension": ".py",
   "mimetype": "text/x-python",
   "name": "python",
   "nbconvert_exporter": "python",
   "pygments_lexer": "ipython3",
   "version": "3.10.13"
  }
 },
 "nbformat": 4,
 "nbformat_minor": 5
}
